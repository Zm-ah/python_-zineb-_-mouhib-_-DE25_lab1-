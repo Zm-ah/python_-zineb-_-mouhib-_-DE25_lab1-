{
 "cells": [
  {
   "cell_type": "code",
   "execution_count": 2,
   "id": "225f0fdc",
   "metadata": {},
   "outputs": [
    {
     "name": "stdout",
     "output_type": "stream",
     "text": [
      ">seq1\n",
      "cGTAaccaataaaaaaacaagcttaacctaattc\n",
      ">seq2\n",
      "agcttagTTTGGatctggccgggg\n",
      ">seq3\n",
      "gcggatttactcCCCCCAAAAANNaggggagagcccagataaatggagtctgtgcgtccaca\n",
      "gaattcgcacca\n",
      "AATAAAACCTCACCCAT\n",
      "agagcccagaatttactcCCC\n",
      ">seq4\n",
      "gcggatttactcaggggagagcccagGGataaatggagtctgtgcgtccaca\n",
      "gaattcgcacca\n",
      "True\n"
     ]
    }
   ],
   "source": [
    "with open (\"dna_raw_complicated.txt\",\"r\") as f:\n",
    "    text = f.read()\n",
    "\n",
    "print(text)\n",
    "line = text.splitlines()\n",
    "#läser in filen  dna_raw.txt\n",
    "# och skriver ut den. \n",
    "for i in range(0, len(line), 2):\n",
    "    seq_ID = line[i]  # här kallar jag fram själva seq-ID \n",
    "    sequence = line[i + 1] # i själva text har man sequens _id  och i den andra raden hela bas sequens, i denna kodrad kallar jag på den andra raden. \n",
    "\n",
    "print(line==text.splitlines()) "
   ]
  },
  {
   "cell_type": "code",
   "execution_count": 6,
   "id": "fcbf5c67",
   "metadata": {},
   "outputs": [
    {
     "name": "stdout",
     "output_type": "stream",
     "text": [
      "The count of bases for this sequence are :\n",
      "seq1\n",
      "{'C': 8, 'G': 2, 'T': 7, 'A': 17}\n",
      " ----------- \n",
      "The count of bases for this sequence are :\n",
      "seq2\n",
      "{'A': 3, 'G': 10, 'C': 4, 'T': 7}\n",
      " ----------- \n",
      "The count of bases for this sequence are :\n",
      "seq3\n",
      "{'G': 21, 'C': 34, 'A': 36, 'T': 19}\n",
      " ----------- \n",
      "The count of bases for this sequence are :\n",
      "seq4\n",
      "{'G': 20, 'C': 15, 'A': 17, 'T': 12}\n",
      " ----------- \n"
     ]
    }
   ],
   "source": [
    "all_sequences = {\n",
    "\"seq1\" :\"cGTAaccaataaaaaaacaagcttaacctaattc\",\n",
    "\"seq2\" : \"agcttagTTTGGatctggccgggg\",\n",
    "\"seq3\" : \"\"\"gcggatttactcCCCCCAAAAANNaggggagagcccagataaatggagtctgtgcgtccaca\n",
    "gaattcgcaccaAATAAAACCTCACCCATagagcccagaatttactcCCC\"\"\",\n",
    "\"seq4\" : \"\"\"gcggatttactcaggggagagcccagGGataaatggagtctgtgcgtccaca\n",
    "gaattcgcacca\"\"\",\n",
    "}\n",
    "\n",
    "for seq_ID, sequence in all_sequences.items():\n",
    "\n",
    "    sequence = sequence.replace(\"\\n\", \"\")\n",
    "    sequence = sequence.upper().replace(\"N\", \"\")\n",
    "     # jag tog bort radbrytning efetrsom programmet reknade till och med  radbrytning som en bas.\n",
    "    count = dict()\n",
    "    for base in sequence.upper():\n",
    "        if base in count:\n",
    "            count[base] += 1\n",
    "        else:\n",
    "            count[base] = 1\n",
    "    \n",
    "    \n",
    "    print(\"The count of bases for this sequence are :\")\n",
    "    print(seq_ID)\n",
    "    print(count)\n",
    "    print(\" ----------- \")\n"
   ]
  },
  {
   "cell_type": "code",
   "execution_count": null,
   "id": "2b841bd8",
   "metadata": {},
   "outputs": [],
   "source": [
    "import matplotlib.pyplot as plt \n",
    "\n",
    "all_sequences= {\n",
    "\"seq1\" : {'C': 8, 'G': 2, 'T': 7, 'A': 17},\n",
    "\"seq2\" : {'A': 3, 'G': 10, 'C': 4, 'T': 7},\n",
    "\"seq3\" : {'G': 21, 'C': 34, 'A': 36, 'T': 19},\n",
    "\"seq4\" : {'G': 20, 'C': 15, 'A': 17, 'T': 12}\n",
    "}\n",
    "\n",
    "for seq_ID, base_counts in all_sequences.items():\n",
    "    bases = list(base_counts.keys())\n",
    "    counts = list(base_counts.values())\n",
    "\n",
    "    plt.figure(figsize=(6, 4))\n",
    "    plt.bar(bases , counts , color = \"green\")\n",
    "    plt.title(f\"ID - {seq_ID}\")\n",
    "    plt.xlabel(\"Bases\")\n",
    "    plt.ylabel(\"counts\")\n",
    "    plt.yticks(range(0, max(counts)+1)) # I got problem her ylable max 17,5 nad and i har int number, so i added +1\n",
    "    plt.grid(axis='y', linestyle='--', alpha=0.6)\n",
    "    plt.tight_layout()\n",
    "    plt.show() \n",
    "\n"
   ]
  }
 ],
 "metadata": {
  "kernelspec": {
   "display_name": "Python 3",
   "language": "python",
   "name": "python3"
  },
  "language_info": {
   "codemirror_mode": {
    "name": "ipython",
    "version": 3
   },
   "file_extension": ".py",
   "mimetype": "text/x-python",
   "name": "python",
   "nbconvert_exporter": "python",
   "pygments_lexer": "ipython3",
   "version": "3.12.10"
  }
 },
 "nbformat": 4,
 "nbformat_minor": 5
}
