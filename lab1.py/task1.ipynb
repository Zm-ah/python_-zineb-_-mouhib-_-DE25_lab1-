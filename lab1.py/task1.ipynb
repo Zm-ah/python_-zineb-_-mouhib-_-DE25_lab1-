{
 "cells": [
  {
   "cell_type": "code",
   "execution_count": 1,
   "metadata": {},
   "outputs": [
    {
     "name": "stdout",
     "output_type": "stream",
     "text": [
      ">seq1\n",
      "cGTAaccaataaaaaaacaagcttaacctaattc\n",
      ">seq2\n",
      "agcttagTTTGGatctggccgggg\n",
      ">seq3\n",
      "gcggatttactcCCCCCAAAAANNaggggagagcccagataaatggagtctgtgcgtccaca\n",
      ">seq4\n",
      "gcggatttactcaggggagagcccagGGataaatggagtctgtgcgtccaca\n"
     ]
    },
    {
     "ename": "NameError",
     "evalue": "name 'lines' is not defined",
     "output_type": "error",
     "traceback": [
      "\u001b[31m---------------------------------------------------------------------------\u001b[39m",
      "\u001b[31mNameError\u001b[39m                                 Traceback (most recent call last)",
      "\u001b[36mCell\u001b[39m\u001b[36m \u001b[39m\u001b[32mIn[1]\u001b[39m\u001b[32m, line 8\u001b[39m\n\u001b[32m      5\u001b[39m line = text.splitlines()\n\u001b[32m      6\u001b[39m \u001b[38;5;66;03m#läser in filen  dna_raw.txt\u001b[39;00m\n\u001b[32m      7\u001b[39m \u001b[38;5;66;03m# och skriver ut den. \u001b[39;00m\n\u001b[32m----> \u001b[39m\u001b[32m8\u001b[39m \u001b[38;5;28;01mfor\u001b[39;00m i \u001b[38;5;129;01min\u001b[39;00m \u001b[38;5;28mrange\u001b[39m(\u001b[32m0\u001b[39m, \u001b[38;5;28mlen\u001b[39m(\u001b[43mlines\u001b[49m), \u001b[32m2\u001b[39m):\n\u001b[32m      9\u001b[39m     seq_ID = lines[i]  \u001b[38;5;66;03m# här kallar jag fram själva seq-ID \u001b[39;00m\n\u001b[32m     10\u001b[39m     sequence = lines[i + \u001b[32m1\u001b[39m] \u001b[38;5;66;03m# i själva text har man sequens _id  och i den andra raden hela bas sequens, i denna kodrad kallar jag på den andra raden. \u001b[39;00m\n",
      "\u001b[31mNameError\u001b[39m: name 'lines' is not defined"
     ]
    }
   ],
   "source": [
    "with open (\"dna_raw.txt\",\"r\") as f:\n",
    "    text = f.read()\n",
    "\n",
    "print(text)\n",
    "line = text.splitlines()\n",
    "#läser in filen  dna_raw.txt\n",
    "# och skriver ut den. \n",
    "for i in range(0, len(lines), 2):\n",
    "    seq_ID = lines[i]  # här kallar jag fram själva seq-ID \n",
    "    sequence = lines[i + 1] # i själva text har man sequens _id  och i den andra raden hela bas sequens, i denna kodrad kallar jag på den andra raden. \n",
    "\n",
    "print(lines) ==text.splitlines()  # delar upp texten i rader och sparar dem i en lista som heter lines"
   ]
  },
  {
   "cell_type": "code",
   "execution_count": 2,
   "metadata": {},
   "outputs": [
    {
     "name": "stdout",
     "output_type": "stream",
     "text": [
      "seq1\n",
      "{'C': 8, 'G': 2, 'T': 7, 'A': 17}\n",
      " ----------- \n",
      "seq2\n",
      "{'A': 3, 'G': 10, 'C': 4, 'T': 7}\n",
      " ----------- \n",
      "seq3\n",
      "{'G': 16, 'C': 16, 'A': 18, 'T': 10, 'N': 2}\n",
      " ----------- \n",
      "seq4\n",
      "{'G': 18, 'C': 11, 'A': 13, 'T': 10}\n",
      " ----------- \n"
     ]
    }
   ],
   "source": [
    "\n",
    "# jag skapar en dictionary med {} \n",
    " \n",
    "\n",
    "all_sequences = {\n",
    "\"seq1\" : \"cGTAaccaataaaaaaacaagcttaacctaattc\",\n",
    "\"seq2\" : \"agcttagTTTGGatctggccgggg\",\n",
    "\"seq3\" : \"gcggatttactcCCCCCAAAAANNaggggagagcccagataaatggagtctgtgcgtccaca\",\n",
    "\"seq4\" : \"gcggatttactcaggggagagcccagGGataaatggagtctgtgcgtccaca\",\n",
    "}\n",
    "\n",
    "for seq_ID, sequence in all_sequences.items():\n",
    "    count = dict()\n",
    "    for base in sequence.upper():\n",
    "        if base in count:\n",
    "            count[base] += 1\n",
    "        else:\n",
    "            count[base] = 1\n",
    "\n",
    "    print(seq_ID)\n",
    "    print(count)\n",
    "    print(\" ----------- \")\n"
   ]
  },
  {
   "cell_type": "code",
   "execution_count": 3,
   "metadata": {},
   "outputs": [
    {
     "data": {
      "image/png": "[encoded data removed]",
      "text/plain": [
       "<Figure size 1000x800 with 1 Axes>"
      ]
     },
     "metadata": {},
     "output_type": "display_data"
    }
   ],
   "source": [
    "import matplotlib.pyplot as plt\n",
    "import numpy as np \n",
    "\n",
    "\n",
    "\n",
    "\n",
    "all_sequences= {\n",
    "\"seq1\" : \"cGTAaccaataaaaaaacaagcttaacctaattc\",\n",
    "\"seq2\" : \"agcttagTTTGGatctggccgggg\",\n",
    "\"seq3\" : \"gcggatttactcCCCCCAAAAANNaggggagagcccagataaatggagtctgtgcgtccaca\",\n",
    "\"seq4\" : \"gcggatttactcaggggagagcccagGGataaatggagtctgtgcgtccaca\",\n",
    "}\n",
    "seq_ID = list(all_sequences.keys())\n",
    "bases = [\"A\",\"C\",\"T\",\"G\"]  # det àr bettre att ag byter namnet men bar dubbel kolla  fòr bèda seq_id eller baser \n",
    "\n",
    "#base = list(all_sequences.values())\n",
    "x = np.arange(len(seq_ID))\n",
    "fig = plt.figure(figsize =(10 , 8))\n",
    "plt.bar( bases, seq_ID, color = \"green\", width = 0.4)\n",
    "plt.xlabel(\"bases\")\n",
    "plt.ylabel (\"seq_ID\")\n",
    "plt.title(\"DNA - sequensies \")\n",
    "\n",
    "plt.show()\n"
   ]
  }
 ],
 "metadata": {
  "kernelspec": {
   "display_name": "Python 3",
   "language": "python",
   "name": "python3"
  },
  "language_info": {
   "codemirror_mode": {
    "name": "ipython",
    "version": 3
   },
   "file_extension": ".py",
   "mimetype": "text/x-python",
   "name": "python",
   "nbconvert_exporter": "python",
   "pygments_lexer": "ipython3",
   "version": "3.12.10"
  }
 },
 "nbformat": 4,
 "nbformat_minor": 2
}
