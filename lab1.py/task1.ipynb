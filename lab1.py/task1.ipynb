{
 "cells": [
  {
   "cell_type": "code",
   "execution_count": 11,
   "metadata": {},
   "outputs": [
    {
     "name": "stdout",
     "output_type": "stream",
     "text": [
      ">seq1\n",
      "cGTAaccaataaaaaaacaagcttaacctaattc\n",
      ">seq2\n",
      "agcttagTTTGGatctggccgggg\n",
      ">seq3\n",
      "gcggatttactcCCCCCAAAAANNaggggagagcccagataaatggagtctgtgcgtccaca\n",
      ">seq4\n",
      "gcggatttactcaggggagagcccagGGataaatggagtctgtgcgtccaca\n"
     ]
    }
   ],
   "source": [
    "with open (\"dna_raw.txt\",\"r\") as f:\n",
    "    text = f.read()\n",
    "\n",
    "print(text)\n",
    "\n",
    "#läser in filen  dna_raw.txt\n",
    "# och skriver ut den. \n"
   ]
  },
  {
   "cell_type": "code",
   "execution_count": 18,
   "metadata": {},
   "outputs": [
    {
     "name": "stdout",
     "output_type": "stream",
     "text": [
      "['>seq1', 'cGTAaccaataaaaaaacaagcttaacctaattc', '>seq2', 'agcttagTTTGGatctggccgggg', '>seq3', 'gcggatttactcCCCCCAAAAANNaggggagagcccagataaatggagtctgtgcgtccaca', '>seq4', 'gcggatttactcaggggagagcccagGGataaatggagtctgtgcgtccaca']\n"
     ]
    }
   ],
   "source": [
    "for i in range(0, len(lines), 2):\n",
    "    seq_ID = lines[i]  # här kallar jag fram själva seq-ID \n",
    "    sequence = lines[i + 1] # i själva text har man sequens _id  och i den andra raden hela bas sequens, i denna kodrad kallar jag på den andra raden. \n",
    "\n",
    "print(lines)\n",
    "\n"
   ]
  },
  {
   "cell_type": "code",
   "execution_count": 29,
   "metadata": {},
   "outputs": [
    {
     "name": "stdout",
     "output_type": "stream",
     "text": [
      "seq1\n",
      "{'C': 8, 'G': 2, 'T': 7, 'A': 17}\n",
      " ----------- \n",
      "seq2\n",
      "{'A': 3, 'G': 10, 'C': 4, 'T': 7}\n",
      " ----------- \n",
      "seq3\n",
      "{'G': 16, 'C': 16, 'A': 18, 'T': 10, 'N': 2}\n",
      " ----------- \n",
      "seq4\n",
      "{'G': 18, 'C': 11, 'A': 13, 'T': 10}\n",
      " ----------- \n"
     ]
    }
   ],
   "source": [
    "\n",
    "# jag skapar en dictionary med {} \n",
    " \n",
    "\n",
    "all_sequences= {\n",
    "\"seq1\" : \"cGTAaccaataaaaaaacaagcttaacctaattc\",\n",
    "\"seq2\" : \"agcttagTTTGGatctggccgggg\",\n",
    "\"seq3\" : \"gcggatttactcCCCCCAAAAANNaggggagagcccagataaatggagtctgtgcgtccaca\",\n",
    "\"seq4\" : \"gcggatttactcaggggagagcccagGGataaatggagtctgtgcgtccaca\",\n",
    "}\n",
    "\n",
    "for seq_ID, sequence in all_sequences.items():\n",
    "    count = dict()\n",
    "    for base in sequence.upper():\n",
    "        if base in count:\n",
    "            count[base] += 1\n",
    "        else:\n",
    "            count[base] = 1\n",
    "\n",
    "    print(seq_ID)\n",
    "    print(count)\n",
    "    print(\" ----------- \")\n"
   ]
  },
  {
   "cell_type": "code",
   "execution_count": 31,
   "metadata": {},
   "outputs": [],
   "source": [
    "import matplotlib.pyplot as plt\n",
    "all_sequences= {\n",
    "\"seq1\" : \"cGTAaccaataaaaaaacaagcttaacctaattc\",\n",
    "\"seq2\" : \"agcttagTTTGGatctggccgggg\",\n",
    "\"seq3\" : \"gcggatttactcCCCCCAAAAANNaggggagagcccagataaatggagtctgtgcgtccaca\",\n",
    "\"seq4\" : \"gcggatttactcaggggagagcccagGGataaatggagtctgtgcgtccaca\",\n",
    "}\n",
    "\n",
    "bases = [\"A\",\"C\",\"T\",\"G\"]\n",
    "\n",
    "\n",
    "\n"
   ]
  }
 ],
 "metadata": {
  "kernelspec": {
   "display_name": ".venv",
   "language": "python",
   "name": "python3"
  },
  "language_info": {
   "codemirror_mode": {
    "name": "ipython",
    "version": 3
   },
   "file_extension": ".py",
   "mimetype": "text/x-python",
   "name": "python",
   "nbconvert_exporter": "python",
   "pygments_lexer": "ipython3",
   "version": "3.12.10"
  }
 },
 "nbformat": 4,
 "nbformat_minor": 2
}
